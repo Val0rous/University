{
 "cells": [
  {
   "cell_type": "code",
   "execution_count": null,
   "id": "presidential-school",
   "metadata": {},
   "outputs": [],
   "source": [
    "import numpy as np\n",
    "import cv2 as cv\n",
    "import pyautogui as pa\n",
    "import time\n",
    "import va"
   ]
  },
  {
   "cell_type": "code",
   "execution_count": null,
   "id": "round-family",
   "metadata": {
    "scrolled": false
   },
   "outputs": [],
   "source": [
    "roi_game = (1, 170, 600, 150)\n",
    "\n",
    "def capture_screen():\n",
    "    return cv.cvtColor(np.array(pa.screenshot(region=roi_game)), cv.COLOR_RGB2BGR)\n",
    "\n",
    "img = capture_screen()\n",
    "va.show(img)"
   ]
  },
  {
   "cell_type": "code",
   "execution_count": null,
   "id": "recorded-karaoke",
   "metadata": {},
   "outputs": [],
   "source": [
    "def draw_roi(image, roi, color=(0,255,255)):\n",
    "    x, y, w, h = roi\n",
    "    return cv.rectangle(image, (x, y), (x+w, y+h), color)"
   ]
  },
  {
   "cell_type": "code",
   "execution_count": null,
   "id": "floral-subscriber",
   "metadata": {},
   "outputs": [],
   "source": [
    "roi_game_over = (203, 0, 200, 13)\n",
    "va.show(draw_roi(img.copy(), roi_game_over))"
   ]
  },
  {
   "cell_type": "code",
   "execution_count": null,
   "id": "tender-poverty",
   "metadata": {},
   "outputs": [],
   "source": [
    "def get_roi(image, roi):\n",
    "    x, y, w, h = roi\n",
    "    return image[y:y+h, x:x+w]"
   ]
  },
  {
   "cell_type": "code",
   "execution_count": null,
   "id": "rolled-conservative",
   "metadata": {},
   "outputs": [],
   "source": [
    "img_game_over = get_roi(img, roi_game_over)\n",
    "va.show(img_game_over)"
   ]
  },
  {
   "cell_type": "code",
   "execution_count": null,
   "id": "racial-bailey",
   "metadata": {},
   "outputs": [],
   "source": [
    "def is_game_over(image):\n",
    "    return np.array_equal(get_roi(image, roi_game_over), img_game_over)"
   ]
  },
  {
   "cell_type": "code",
   "execution_count": null,
   "id": "regional-bumper",
   "metadata": {},
   "outputs": [],
   "source": [
    "is_game_over(img)"
   ]
  },
  {
   "cell_type": "code",
   "execution_count": null,
   "id": "dated-module",
   "metadata": {},
   "outputs": [],
   "source": [
    "roi_ostacolo = (85,110, 60, 20)\n",
    "va.show(draw_roi(img.copy(), roi_ostacolo))"
   ]
  },
  {
   "cell_type": "code",
   "execution_count": null,
   "id": "circular-tokyo",
   "metadata": {},
   "outputs": [],
   "source": [
    "back_color = img[0,0]\n",
    "print(back_color)"
   ]
  },
  {
   "cell_type": "code",
   "execution_count": null,
   "id": "inappropriate-control",
   "metadata": {},
   "outputs": [],
   "source": [
    "def must_jump(image):\n",
    "    return np.any(get_roi(image, roi_ostacolo) != back_color)"
   ]
  },
  {
   "cell_type": "code",
   "execution_count": null,
   "id": "solved-commercial",
   "metadata": {},
   "outputs": [],
   "source": [
    "must_jump(img)"
   ]
  },
  {
   "cell_type": "code",
   "execution_count": null,
   "id": "smaller-quantity",
   "metadata": {},
   "outputs": [],
   "source": [
    "roi_ostacolo_volante = (78, 90, 50, 10)\n",
    "va.show(draw_roi(img.copy(), roi_ostacolo_volante))"
   ]
  },
  {
   "cell_type": "code",
   "execution_count": null,
   "id": "maritime-adelaide",
   "metadata": {},
   "outputs": [],
   "source": [
    "def must_duck(image):\n",
    "    return np.any(get_roi(image, roi_ostacolo_volante) != back_color)"
   ]
  },
  {
   "cell_type": "code",
   "execution_count": null,
   "id": "documented-facing",
   "metadata": {},
   "outputs": [],
   "source": [
    "must_duck(img)"
   ]
  },
  {
   "cell_type": "code",
   "execution_count": null,
   "id": "figured-border",
   "metadata": {},
   "outputs": [],
   "source": [
    "def draw_message(image, text):\n",
    "    return cv.putText(image, text, (10, 20), cv.FONT_HERSHEY_PLAIN, 1, (0,255,255))"
   ]
  },
  {
   "cell_type": "code",
   "execution_count": null,
   "id": "simplified-individual",
   "metadata": {},
   "outputs": [],
   "source": [
    "va.show(draw_message(img.copy(), \"Test\"))"
   ]
  },
  {
   "cell_type": "code",
   "execution_count": null,
   "id": "smooth-envelope",
   "metadata": {},
   "outputs": [],
   "source": [
    "def press_key(name, t = 0.1):\n",
    "    pa.keyDown(name, _pause = False) \n",
    "    time.sleep(t)\n",
    "    pa.keyUp(name, _pause = False)"
   ]
  },
  {
   "cell_type": "code",
   "execution_count": null,
   "id": "blocked-reading",
   "metadata": {},
   "outputs": [],
   "source": [
    "def auto_play():\n",
    "    did = va.get_new_display_id()\n",
    "    while is_game_over(frame := capture_screen()):\n",
    "        va.show(draw_message(frame, \"Game not started ...\"), display_id = did)\n",
    "        \n",
    "    while not is_game_over(frame := capture_screen()):\n",
    "        msg = \"\"\n",
    "        if must_jump(frame):\n",
    "            press_key('up')\n",
    "            msg = \"Jump!\"\n",
    "        elif must_duck(frame):\n",
    "            press_key('down', 0.4)\n",
    "            msg = \"Duck!\"\n",
    "                        \n",
    "        draw_roi(frame, roi_ostacolo)\n",
    "        draw_roi(frame, roi_ostacolo_volante)\n",
    "        va.show(draw_message(frame, msg), display_id = did)"
   ]
  },
  {
   "cell_type": "code",
   "execution_count": null,
   "id": "agreed-surveillance",
   "metadata": {},
   "outputs": [],
   "source": [
    "auto_play()"
   ]
  }
 ],
 "metadata": {
  "kernelspec": {
   "display_name": "Python 3",
   "language": "python",
   "name": "python3"
  },
  "language_info": {
   "codemirror_mode": {
    "name": "ipython",
    "version": 3
   },
   "file_extension": ".py",
   "mimetype": "text/x-python",
   "name": "python",
   "nbconvert_exporter": "python",
   "pygments_lexer": "ipython3",
   "version": "3.8.5"
  }
 },
 "nbformat": 4,
 "nbformat_minor": 5
}
