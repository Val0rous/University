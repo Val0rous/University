{
 "cells": [
  {
   "cell_type": "code",
   "execution_count": null,
   "metadata": {},
   "outputs": [],
   "source": [
    "import numpy as np\n",
    "import cv2 as cv\n",
    "import va\n",
    "from ipywidgets import interact"
   ]
  },
  {
   "cell_type": "markdown",
   "metadata": {},
   "source": [
    "# Immagini grayscale"
   ]
  },
  {
   "cell_type": "code",
   "execution_count": null,
   "metadata": {},
   "outputs": [],
   "source": [
    "a = np.random.randint(0,255, (7,9), dtype=np.uint8)\n",
    "print(a)"
   ]
  },
  {
   "cell_type": "code",
   "execution_count": null,
   "metadata": {},
   "outputs": [],
   "source": [
    "va.show(a,'Immagine casuale')"
   ]
  },
  {
   "cell_type": "markdown",
   "metadata": {},
   "source": [
    "`a` è un *array NumPy*, un tipo di dato che permette di gestire comodamente array multidimensionali."
   ]
  },
  {
   "cell_type": "code",
   "execution_count": null,
   "metadata": {
    "scrolled": false
   },
   "outputs": [],
   "source": [
    "a[0,0] = 42 # Modifica del valore di un pixel\n",
    "a[0,1] = 42\n",
    "print(a)\n",
    "va.show(a)"
   ]
  },
  {
   "cell_type": "code",
   "execution_count": null,
   "metadata": {
    "scrolled": false
   },
   "outputs": [],
   "source": [
    "a[1:6,2:7] = 42\n",
    "print(a)\n",
    "va.show(a)"
   ]
  },
  {
   "cell_type": "code",
   "execution_count": null,
   "metadata": {
    "scrolled": false
   },
   "outputs": [],
   "source": [
    "a[:] = 0\n",
    "a[1:6,2:7] = 42\n",
    "a[1:6:2,2:7:2] = 255\n",
    "va.show(a)"
   ]
  },
  {
   "cell_type": "code",
   "execution_count": null,
   "metadata": {},
   "outputs": [],
   "source": [
    "img = np.zeros((7,13),int)\n",
    "\n",
    "@interact(g=(0,255))\n",
    "def f(g=0):\n",
    "    img[:] = g\n",
    "    img[::2,::2] = 255 - g\n",
    "    va.show(img)    \n",
    "    print(img)"
   ]
  },
  {
   "cell_type": "code",
   "execution_count": null,
   "metadata": {},
   "outputs": [],
   "source": [
    "img = cv.imread('Images/OBJ.png', cv.IMREAD_GRAYSCALE)\n",
    "print(img.shape)\n",
    "va.show(img)"
   ]
  },
  {
   "cell_type": "code",
   "execution_count": null,
   "metadata": {},
   "outputs": [],
   "source": [
    "sprite = img[0:150, 0:190]\n",
    "mask = np.where(sprite!=0, 0, 255).astype(np.uint8)\n",
    "va.show(sprite, mask)"
   ]
  },
  {
   "cell_type": "code",
   "execution_count": null,
   "metadata": {},
   "outputs": [],
   "source": [
    "@interact(x=(0,210), y=(0,150))\n",
    "def test(x = 0, y = 0):\n",
    "    h, w = sprite.shape\n",
    "    res = img.copy()\n",
    "    res[y:y+h, x:x+w] &= mask\n",
    "    res[y:y+h, x:x+w] |= sprite\n",
    "    va.show(res)"
   ]
  },
  {
   "cell_type": "markdown",
   "metadata": {},
   "source": [
    "# Immagini a colori"
   ]
  },
  {
   "cell_type": "markdown",
   "metadata": {},
   "source": [
    "### RGB: Modello additivo\n",
    "\n",
    "<img src=\"images/additive_rgb.png\" align=\"right\"/>\n",
    "\n",
    "- I colori sono ottenuti mediante combinazione dei 3 colori primari Red, Green, Blue\n",
    "- Il più utilizzato in informatica per la semplicità con cui si generano i colori\n",
    "\n",
    "<img src=\"images/rgb-space.jpg\" align=\"left\"/>"
   ]
  },
  {
   "cell_type": "code",
   "execution_count": null,
   "metadata": {
    "scrolled": false
   },
   "outputs": [],
   "source": [
    "img = np.zeros((7,13,3), np.uint8)\n",
    "@interact( r=(0,255), g=(0,255), b=(0,255) )\n",
    "def f(r=0, g=0, b=0):\n",
    "    img[:] = (b, g, r)\n",
    "    va.show(*zip(cv.split(img),\"BGR\"), (img,'Img'))"
   ]
  },
  {
   "cell_type": "code",
   "execution_count": null,
   "metadata": {
    "scrolled": false
   },
   "outputs": [],
   "source": [
    "img = cv.imread(\"images/obj.png\")\n",
    "b, g, r = img.copy(), img.copy(), img.copy()\n",
    "b[...,1:] = 0\n",
    "g[...,::2] = 0\n",
    "r[...,:2] = 0\n",
    "va.show(b, g, r, img)\n",
    "va.show(b+g, b+r, g+r)"
   ]
  },
  {
   "cell_type": "code",
   "execution_count": null,
   "metadata": {},
   "outputs": [],
   "source": []
  }
 ],
 "metadata": {
  "kernelspec": {
   "display_name": "Python 3",
   "language": "python",
   "name": "python3"
  },
  "language_info": {
   "codemirror_mode": {
    "name": "ipython",
    "version": 3
   },
   "file_extension": ".py",
   "mimetype": "text/x-python",
   "name": "python",
   "nbconvert_exporter": "python",
   "pygments_lexer": "ipython3",
   "version": "3.8.5"
  }
 },
 "nbformat": 4,
 "nbformat_minor": 2
}
